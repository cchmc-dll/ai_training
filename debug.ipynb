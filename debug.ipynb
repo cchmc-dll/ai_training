{
 "cells": [
  {
   "cell_type": "code",
   "execution_count": 1,
   "metadata": {},
   "outputs": [],
   "source": [
    "from IPython import get_ipython"
   ]
  },
  {
   "cell_type": "code",
   "execution_count": 2,
   "metadata": {},
   "outputs": [
    {
     "output_type": "stream",
     "name": "stderr",
     "text": [
      "No traceback available to show.\n"
     ]
    }
   ],
   "source": [
    "get_ipython().run_line_magic('tb', '')"
   ]
  },
  {
   "cell_type": "code",
   "execution_count": 3,
   "metadata": {},
   "outputs": [
    {
     "output_type": "stream",
     "name": "stdout",
     "text": [
      "ipykernel_launcher\n['ipykernel_launcher', '@training.args']\n"
     ]
    }
   ],
   "source": [
    "import sys\n",
    "import argparse\n",
    "from pathlib import Path\n",
    "#Configuration file\n",
    "config_file = 'training.args'\n",
    "config_arg = '@'+config_file\n",
    "print(sys.argv[0])\n",
    "if config_arg not in sys.argv:\n",
    "    primary = sys.argv[0]\n",
    "    sys.argv = [primary,config_arg] \n",
    "print(sys.argv)"
   ]
  },
  {
   "cell_type": "code",
   "execution_count": 6,
   "metadata": {},
   "outputs": [
    {
     "output_type": "stream",
     "name": "stdout",
     "text": [
      "@training.args\nargv type:  <class 'list'>\nargv:  ['ipykernel_launcher', '@training.args']\n{'CL_features': 10,\n 'CPU': 6,\n 'GPU': 1,\n 'augment': 0,\n 'batch_size': 8,\n 'data_dir': './data',\n 'data_file': 'data_32_final.h5',\n 'distort': 0,\n 'flip': False,\n 'image_shape': (256, 256, 32),\n 'input_type': 'Image',\n 'labels': ('1',),\n 'learning_rate_epochs': None,\n 'loss': 'dsc',\n 'lr': None,\n 'metrics': None,\n 'monitor': './tensorboard',\n 'n_classes': 2,\n 'n_epochs': 10,\n 'n_labels': 1,\n 'opt': 'adam',\n 'patch_overlap': 0,\n 'patch_shape': None,\n 'permute': False,\n 'problem_type': 'Segmentation',\n 'reduce': 0,\n 'skip_blank': True,\n 'training_model': 'ls_isensee',\n 'training_patch_start_offset': (16, 16, 16),\n 'training_split': 'train_fold_1_417.pkl',\n 'validation_batch_size': 8,\n 'validation_patch_overlap': 0,\n 'validation_split': 'valid_fold_1_105.pkl'}\n"
     ]
    }
   ],
   "source": [
    "#from  src.run_preprocess import *\n",
    "from src.run_training import *\n",
    "\n",
    "file = '@training.args'\n",
    "\n",
    "print(file)\n",
    "config = main()\n",
    "pprint.pprint(config)"
   ]
  },
  {
   "cell_type": "code",
   "execution_count": 11,
   "metadata": {},
   "outputs": [],
   "source": [
    "# Open the hdf5 file\n",
    "\n",
    "data_file = tables.open_file(os.path.abspath(os.path.join(config[\"data_dir\"],config[\"data_file\"])),mode='r')"
   ]
  },
  {
   "cell_type": "code",
   "execution_count": 7,
   "metadata": {},
   "outputs": [
    {
     "output_type": "stream",
     "name": "stdout",
     "text": [
      "Loading previous validation split...\n"
     ]
    },
    {
     "output_type": "error",
     "ename": "AttributeError",
     "evalue": "'function' object has no attribute 'build'",
     "traceback": [
      "\u001b[1;31m---------------------------------------------------------------------------\u001b[0m",
      "\u001b[1;31mAttributeError\u001b[0m                            Traceback (most recent call last)",
      "\u001b[1;32m<ipython-input-7-ec4273f0d005>\u001b[0m in \u001b[0;36m<module>\u001b[1;34m\u001b[0m\n\u001b[1;32m----> 1\u001b[1;33m \u001b[0mrun_training\u001b[0m\u001b[1;33m(\u001b[0m\u001b[0mconfig\u001b[0m\u001b[1;33m)\u001b[0m\u001b[1;33m\u001b[0m\u001b[1;33m\u001b[0m\u001b[0m\n\u001b[0m",
      "\u001b[1;32mc:\\Users\\somd7w\\Desktop\\DL_Projects\\ai_training\\src\\run_training.py\u001b[0m in \u001b[0;36mrun_training\u001b[1;34m(config)\u001b[0m\n\u001b[0;32m    387\u001b[0m                                         \u001b[0mskip_blank\u001b[0m\u001b[1;33m=\u001b[0m\u001b[1;32mFalse\u001b[0m\u001b[1;33m,\u001b[0m\u001b[1;33m\u001b[0m\u001b[1;33m\u001b[0m\u001b[0m\n\u001b[0;32m    388\u001b[0m                                         permute=config['permute'],reduce=config['reduce'])\n\u001b[1;32m--> 389\u001b[1;33m             \u001b[0mmodel1\u001b[0m \u001b[1;33m=\u001b[0m \u001b[0misensee2017_model\u001b[0m\u001b[1;33m.\u001b[0m\u001b[0mbuild\u001b[0m\u001b[1;33m(\u001b[0m\u001b[1;33m)\u001b[0m\u001b[1;33m\u001b[0m\u001b[1;33m\u001b[0m\u001b[0m\n\u001b[0m\u001b[0;32m    390\u001b[0m             \u001b[0mprint\u001b[0m\u001b[1;33m(\u001b[0m\u001b[1;34m'isensee model loaded \\n'\u001b[0m\u001b[1;33m,\u001b[0m\u001b[0mmodel1\u001b[0m\u001b[1;33m.\u001b[0m\u001b[0msummary\u001b[0m\u001b[1;33m(\u001b[0m\u001b[1;33m)\u001b[0m\u001b[1;33m)\u001b[0m\u001b[1;33m\u001b[0m\u001b[1;33m\u001b[0m\u001b[0m\n\u001b[0;32m    391\u001b[0m \u001b[1;33m\u001b[0m\u001b[0m\n",
      "\u001b[1;31mAttributeError\u001b[0m: 'function' object has no attribute 'build'"
     ]
    }
   ],
   "source": [
    "run_training(config)"
   ]
  },
  {
   "cell_type": "code",
   "execution_count": 20,
   "metadata": {},
   "outputs": [
    {
     "output_type": "execute_result",
     "data": {
      "text/plain": [
       "True"
      ]
     },
     "metadata": {},
     "execution_count": 20
    }
   ],
   "source": [
    "(config[\"input_type\"] == \"Image\") and  (data_file.__contains__('/imdata'))"
   ]
  },
  {
   "cell_type": "code",
   "execution_count": 8,
   "metadata": {},
   "outputs": [
    {
     "output_type": "error",
     "ename": "NameError",
     "evalue": "name 'niftis' is not defined",
     "traceback": [
      "\u001b[1;31m---------------------------------------------------------------------------\u001b[0m",
      "\u001b[1;31mNameError\u001b[0m                                 Traceback (most recent call last)",
      "\u001b[1;32m<ipython-input-8-d1e81bcb97c5>\u001b[0m in \u001b[0;36m<module>\u001b[1;34m\u001b[0m\n\u001b[1;32m----> 1\u001b[1;33m \u001b[0mprint\u001b[0m\u001b[1;33m(\u001b[0m\u001b[1;34m'Data files '\u001b[0m\u001b[1;33m,\u001b[0m \u001b[0mlen\u001b[0m\u001b[1;33m(\u001b[0m\u001b[0mniftis\u001b[0m\u001b[1;33m.\u001b[0m\u001b[0mdata_files\u001b[0m\u001b[1;33m)\u001b[0m\u001b[1;33m)\u001b[0m\u001b[1;33m\u001b[0m\u001b[1;33m\u001b[0m\u001b[0m\n\u001b[0m\u001b[0;32m      2\u001b[0m \u001b[0mprint\u001b[0m\u001b[1;33m(\u001b[0m\u001b[1;34m'Subject ids '\u001b[0m\u001b[1;33m,\u001b[0m \u001b[0mniftis\u001b[0m\u001b[1;33m.\u001b[0m\u001b[0mids\u001b[0m\u001b[1;33m)\u001b[0m\u001b[1;33m\u001b[0m\u001b[1;33m\u001b[0m\u001b[0m\n\u001b[0;32m      3\u001b[0m \u001b[0mprint\u001b[0m\u001b[1;33m(\u001b[0m\u001b[1;34m'Image data shape '\u001b[0m\u001b[1;33m,\u001b[0m \u001b[0mniftis\u001b[0m\u001b[1;33m.\u001b[0m\u001b[0mimage_data_shape\u001b[0m\u001b[1;33m)\u001b[0m\u001b[1;33m\u001b[0m\u001b[1;33m\u001b[0m\u001b[0m\n\u001b[0;32m      4\u001b[0m \u001b[0mprint\u001b[0m\u001b[1;33m(\u001b[0m\u001b[1;34m'Truth data shape '\u001b[0m\u001b[1;33m,\u001b[0m \u001b[0mniftis\u001b[0m\u001b[1;33m.\u001b[0m\u001b[0mtruth_data_shape\u001b[0m\u001b[1;33m)\u001b[0m\u001b[1;33m\u001b[0m\u001b[1;33m\u001b[0m\u001b[0m\n\u001b[0;32m      5\u001b[0m \u001b[0mprint\u001b[0m\u001b[1;33m(\u001b[0m\u001b[1;34m'N channels '\u001b[0m\u001b[1;33m,\u001b[0m \u001b[0mniftis\u001b[0m\u001b[1;33m.\u001b[0m\u001b[0mn_channels\u001b[0m\u001b[1;33m)\u001b[0m\u001b[1;33m\u001b[0m\u001b[1;33m\u001b[0m\u001b[0m\n",
      "\u001b[1;31mNameError\u001b[0m: name 'niftis' is not defined"
     ]
    }
   ],
   "source": [
    "print('Data files ', len(niftis.data_files))\n",
    "print('Subject ids ', niftis.ids)\n",
    "print('Image data shape ', niftis.image_data_shape)\n",
    "print('Truth data shape ', niftis.truth_data_shape)\n",
    "print('N channels ', niftis.n_channels)"
   ]
  },
  {
   "cell_type": "code",
   "execution_count": null,
   "metadata": {},
   "outputs": [],
   "source": [
    "niftis.Noneindex"
   ]
  },
  {
   "cell_type": "code",
   "execution_count": null,
   "metadata": {},
   "outputs": [],
   "source": [
    "niftis.hdf5.root"
   ]
  },
  {
   "cell_type": "code",
   "execution_count": null,
   "metadata": {},
   "outputs": [],
   "source": [
    "niftis.load_toHDF5_debug()"
   ]
  },
  {
   "cell_type": "code",
   "execution_count": null,
   "metadata": {},
   "outputs": [],
   "source": [
    "niftis.hdf5_toImages('output')"
   ]
  },
  {
   "cell_type": "code",
   "execution_count": null,
   "metadata": {},
   "outputs": [],
   "source": [
    "niftis.Noneindex"
   ]
  },
  {
   "cell_type": "code",
   "execution_count": null,
   "metadata": {},
   "outputs": [],
   "source": [
    "print(niftis.image_data_shape)\n",
    "imshape = list(niftis.image_data_shape)\n",
    "imshape[niftis.Noneindex] = niftis.hdf5.root.imdata[0].shape[0]\n",
    "imshape = imshape[1:]\n",
    "print(imshape)\n",
    "imshape = tuple(imshape)\n",
    "print(imshape)"
   ]
  },
  {
   "cell_type": "code",
   "execution_count": null,
   "metadata": {},
   "outputs": [],
   "source": [
    "niftis.hdf5.root.truth[0].shape"
   ]
  },
  {
   "cell_type": "code",
   "execution_count": null,
   "metadata": {},
   "outputs": [],
   "source": [
    "niftis.image_data_shape = (0,1,256,256,32)"
   ]
  },
  {
   "cell_type": "code",
   "execution_count": null,
   "metadata": {},
   "outputs": [],
   "source": [
    "tables.Filters(5)"
   ]
  },
  {
   "cell_type": "code",
   "execution_count": null,
   "metadata": {},
   "outputs": [],
   "source": [
    "n_samples = len(niftis.ids)\n",
    "\n",
    "#image_storage1 = niftis.hdf5.create_earray(niftis.hdf5.root, 'imdata', tables.Float32Atom(), \n",
    "#                                          shape=(0,1,256,256,32), filters=filters, expectedrows=n_samples)\n",
    "image_storage2 = niftis.hdf5.create_vlarray(niftis.hdf5.root, 'imdata2', tables.Float32Atom(shape=()), filters=filters, expectedrows=n_samples)"
   ]
  },
  {
   "cell_type": "code",
   "execution_count": null,
   "metadata": {},
   "outputs": [],
   "source": [
    "from src.unet3d.normalize import reslice_image_set\n",
    "for (i, imagePath) in enumerate(niftis.data_files):\n",
    "    print(i)\n",
    "    images, imstats = reslice_image_set(\n",
    "                in_files=imagePath, image_shape=(256,256,None), label_indices=len(imagePath)-1, crop=True, stats=True)\n",
    "    subject_data = [image.get_fdata() for image in images]\n",
    "    break\n",
    "    image_storage2.append(np.asarray(subject_data[:niftis.n_channels])[np.newaxis])\n",
    "    print(imstats)\n",
    " "
   ]
  },
  {
   "cell_type": "code",
   "execution_count": null,
   "metadata": {},
   "outputs": [],
   "source": [
    "subject_data[0].shape"
   ]
  },
  {
   "cell_type": "code",
   "execution_count": null,
   "metadata": {},
   "outputs": [],
   "source": [
    "a=np.asarray([5,6])\n",
    "a.shape"
   ]
  },
  {
   "cell_type": "code",
   "execution_count": null,
   "metadata": {},
   "outputs": [],
   "source": [
    "a = np.asarray(list(range(1,21))).reshape(2,2,5)\n",
    "print(a.shape)\n",
    "b = np.asarray(list(range(1,17))).reshape(2,2,4)\n",
    "print(b.shape)"
   ]
  },
  {
   "cell_type": "code",
   "execution_count": null,
   "metadata": {},
   "outputs": [],
   "source": [
    "fileh.close()\n",
    "filters = tables.Filters(complevel=5, complib='blosc')\n",
    "n_samples=9\n",
    "exp_slices = 5 # expected slices\n",
    "fileh = tables.open_file('earrays.h5', mode='w')\n",
    "vlarray = fileh.create_vlarray(fileh.root, 'vlarray1', tables.Int32Atom(shape=(1,2,2)),\"ragged array of ints\",\n",
    "                              filters=filters)  #(1,2,2)\n",
    "\n",
    "\n",
    "vlind = fileh.create_earray(fileh.root, 'vlind', tables.Int32Atom(), shape=(0,2), filters=filters, expectedrows=n_samples)\n",
    "\n",
    "\n",
    "earray2 = fileh.create_earray(fileh.root, 'imdata_slices', tables.Int32Atom(), \n",
    "                                          shape=(0,1,2,2), filters=filters, expectedrows=n_samples*exp_slices)\n",
    "\n",
    "\n",
    "#earray = fileh.create_earray(fileh.root, 'imdata', tables.Int32Atom(), \n",
    "#                                          shape=(0,1,2,2,5), filters=filters, expectedrows=n_samples)\n",
    "start= 0\n",
    "stop = 0\n",
    "\n",
    "vlind.append(np.array([0,5])[np.newaxis])\n",
    "vlind.append(np.array([5,10])[np.newaxis])\n",
    "\n",
    "# Append some (variable length) rows:\n",
    "vlarray.append(a.reshape(5,1,2,2))\n",
    "vlarray.append(b.reshape(5,1,2,2))\n",
    "\n",
    "earray.append(a[np.newaxis][np.newaxis])\n",
    "earray.append(b[np.newaxis][np.newaxis])\n",
    "\n",
    "earray2.append(a.reshape(5,1,2,2))\n",
    "earray2.append(b.reshape(5,1,2,2))\n",
    "\n",
    "# Now, read it through an iterator:\n",
    "# print('-->', vlarray.title)\n",
    "# for x in vlarray:\n",
    "#     print('%s[%d]--> %s' % (vlarray.name, vlarray.nrow, x))"
   ]
  },
  {
   "cell_type": "code",
   "execution_count": null,
   "metadata": {},
   "outputs": [],
   "source": [
    "\"/vlarray1\" in fileh"
   ]
  },
  {
   "cell_type": "code",
   "execution_count": null,
   "metadata": {},
   "outputs": [],
   "source": [
    "earray[0]"
   ]
  },
  {
   "cell_type": "code",
   "execution_count": null,
   "metadata": {},
   "outputs": [],
   "source": [
    "earray.shape"
   ]
  },
  {
   "cell_type": "code",
   "execution_count": null,
   "metadata": {},
   "outputs": [],
   "source": [
    "earray2.shape"
   ]
  },
  {
   "cell_type": "code",
   "execution_count": null,
   "metadata": {},
   "outputs": [],
   "source": [
    "y = np.stack(earray2[vlind[0,0]:vlind[0,1]],axis=0)\n",
    "y = y.reshape(1,2,2,5)\n",
    "y.shape"
   ]
  },
  {
   "cell_type": "code",
   "execution_count": null,
   "metadata": {},
   "outputs": [],
   "source": [
    "earray[0].shape"
   ]
  },
  {
   "cell_type": "code",
   "execution_count": null,
   "metadata": {},
   "outputs": [],
   "source": [
    "earray[0].all() == y.all() == z.all()"
   ]
  },
  {
   "cell_type": "code",
   "execution_count": null,
   "metadata": {},
   "outputs": [],
   "source": [
    "z = vlarray[0].reshape(1,2,2,5)"
   ]
  },
  {
   "cell_type": "code",
   "execution_count": null,
   "metadata": {},
   "outputs": [],
   "source": [
    "image_data_shape = (0,1,2,2,None)\n",
    "truth_data_shape = (0,1,2,2,None)\n",
    "input_shape = (2,2,None)\n",
    "if None in image_data_shape:\n",
    "    Noneindex = input_shape.index(None)\n",
    "    imarray_shape = tuple([i for i in image_data_shape if i])\n",
    "    imtruth_shape = tuple([i for i in truth_data_shape if i])\n",
    "    print(Noneindex)\n",
    "    print(imarray_shape)\n",
    "    print(imtruth_shape)"
   ]
  },
  {
   "cell_type": "code",
   "execution_count": null,
   "metadata": {},
   "outputs": [],
   "source": [
    "v = 10\n",
    "a = 7\n",
    "if v:\n",
    "    a = 1\n",
    "else:\n",
    "    a = 2\n",
    "    \n",
    "print(a)    \n",
    "    "
   ]
  },
  {
   "cell_type": "code",
   "execution_count": null,
   "metadata": {},
   "outputs": [],
   "source": [
    "config['output_file'] = '/data/something/something/name.hdf5'"
   ]
  },
  {
   "cell_type": "code",
   "execution_count": null,
   "metadata": {},
   "outputs": [],
   "source": [
    "out_d = config['output_file'].split('/')[0]\n",
    "out_f = os.path.splitext(os.path.basename(config['output_file']))[0]\n",
    "out_f"
   ]
  },
  {
   "cell_type": "code",
   "execution_count": null,
   "metadata": {},
   "outputs": [],
   "source": [
    "os.path.basename(config['output_file'])"
   ]
  },
  {
   "cell_type": "code",
   "execution_count": null,
   "metadata": {},
   "outputs": [],
   "source": []
  }
 ],
 "metadata": {
  "file_extension": ".py",
  "kernelspec": {
   "display_name": "Python 3",
   "language": "python",
   "name": "python3"
  },
  "language_info": {
   "codemirror_mode": {
    "name": "ipython",
    "version": 3
   },
   "file_extension": ".py",
   "mimetype": "text/x-python",
   "name": "python",
   "nbconvert_exporter": "python",
   "pygments_lexer": "ipython3",
   "version": "3.6.8-final"
  },
  "mimetype": "text/x-python",
  "name": "python",
  "npconvert_exporter": "python",
  "pygments_lexer": "ipython3",
  "version": 3
 },
 "nbformat": 4,
 "nbformat_minor": 2
}
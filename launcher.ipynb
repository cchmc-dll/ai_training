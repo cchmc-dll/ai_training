{
 "cells": [
  {
   "cell_type": "code",
   "execution_count": null,
   "metadata": {},
   "outputs": [],
   "source": [
    "from IPython import get_ipython"
   ]
  },
  {
   "cell_type": "code",
   "execution_count": null,
   "metadata": {},
   "outputs": [],
   "source": [
    "get_ipython().run_line_magic('tb', '')"
   ]
  },
  {
   "cell_type": "code",
   "execution_count": null,
   "metadata": {},
   "outputs": [],
   "source": [
    "# import sys\n",
    "# import argparse\n",
    "# from pathlib import Path\n",
    "# #Configuration file\n",
    "# config_file = 'ab.args'\n",
    "# config_arg = '@'+config_file\n",
    "# print(sys.argv[0])\n",
    "# if config_arg not in sys.argv:\n",
    "#     primary = sys.argv[0]\n",
    "#     sys.argv = [primary,config_arg] \n",
    "# print(sys.argv)"
   ]
  },
  {
   "cell_type": "code",
   "execution_count": null,
   "metadata": {},
   "outputs": [],
   "source": [
    "# from  src.run_preprocess import *\n",
    "\n",
    "# file = '@preproc.args'\n",
    "\n",
    "# main(file)"
   ]
  },
  {
   "cell_type": "code",
   "execution_count": null,
   "metadata": {},
   "outputs": [],
   "source": [
    "%%time\n",
    "from src.run_training import main as preprocess\n",
    "from src.run_training import parse_command_line_arguments,build_config_dict, run_training\n",
    "import sys\n",
    "preprocs = ['@training.args']\n",
    "print(preprocs)"
   ]
  },
  {
   "cell_type": "code",
   "execution_count": null,
   "metadata": {},
   "outputs": [],
   "source": [
    "%%time\n",
    "# Single Core processing\n",
    "for file in preprocs:\n",
    "    config_arg = file\n",
    "    print(sys.argv[0])\n",
    "    if config_arg not in sys.argv:\n",
    "        primary = sys.argv[0]\n",
    "        sys.argv = [primary,config_arg] \n",
    "    print(sys.argv)\n",
    "    preprocess()\n",
    "    print(file,' processed')"
   ]
  },
  {
   "cell_type": "code",
   "execution_count": null,
   "metadata": {},
   "outputs": [],
   "source": [
    "%%time\n",
    "# Parallel Processing\n",
    "configs = list()\n",
    "for file in preprocs:\n",
    "    config_arg = file\n",
    "    #print(sys.argv[0])\n",
    "    if config_arg not in sys.argv:\n",
    "        primary = sys.argv[0]\n",
    "        sys.argv = [primary,config_arg] \n",
    "    #print(sys.argv)\n",
    "    args = parse_command_line_arguments()\n",
    "    config = build_config_dict(vars(args))\n",
    "    configs.append(config)\n",
    "print('No of configs: ',len(configs))"
   ]
  },
  {
   "cell_type": "code",
   "execution_count": null,
   "metadata": {},
   "outputs": [],
   "source": [
    "%%time\n",
    "import multiprocessing\n",
    "from multiprocessing import set_start_method\n",
    "#set_start_method(\"spawn\")\n",
    "\n",
    "from multiprocessing import get_context\n",
    "\n",
    "if __name__=='__main__':\n",
    "    with get_context(\"spawn\").Pool() as pool:\n",
    "        pool.map(run_preprocess,configs)\n",
    "        pool.close()\n",
    "        pool.join()"
   ]
  }
 ],
 "metadata": {
  "file_extension": ".py",
  "kernelspec": {
   "display_name": "Python 3",
   "language": "python",
   "name": "python3"
  },
  "language_info": {
   "codemirror_mode": {
    "name": "ipython",
    "version": 3
   },
   "file_extension": ".py",
   "mimetype": "text/x-python",
   "name": "python",
   "nbconvert_exporter": "python",
   "pygments_lexer": "ipython3",
   "version": "3.6.8-final"
  },
  "mimetype": "text/x-python",
  "name": "python",
  "npconvert_exporter": "python",
  "pygments_lexer": "ipython3",
  "version": 3
 },
 "nbformat": 4,
 "nbformat_minor": 2
}
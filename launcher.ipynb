{
 "cells": [
  {
   "cell_type": "code",
   "execution_count": 1,
   "metadata": {},
   "outputs": [],
   "source": [
    "from IPython import get_ipython"
   ]
  },
  {
   "cell_type": "code",
   "execution_count": 2,
   "metadata": {},
   "outputs": [
    {
     "name": "stderr",
     "output_type": "stream",
     "text": [
      "No traceback available to show.\n"
     ]
    }
   ],
   "source": [
    "get_ipython().run_line_magic('tb', '')"
   ]
  },
  {
   "cell_type": "code",
   "execution_count": 3,
   "metadata": {},
   "outputs": [],
   "source": [
    "# import sys\n",
    "# import argparse\n",
    "# from pathlib import Path\n",
    "# #Configuration file\n",
    "# config_file = 'ab.args'\n",
    "# config_arg = '@'+config_file\n",
    "# print(sys.argv[0])\n",
    "# if config_arg not in sys.argv:\n",
    "#     primary = sys.argv[0]\n",
    "#     sys.argv = [primary,config_arg] \n",
    "# print(sys.argv)"
   ]
  },
  {
   "cell_type": "code",
   "execution_count": 4,
   "metadata": {},
   "outputs": [],
   "source": [
    "# from  src.run_preprocess import *\n",
    "\n",
    "# file = '@preproc.args'\n",
    "\n",
    "# main(file)"
   ]
  },
  {
   "cell_type": "code",
   "execution_count": 3,
   "metadata": {},
   "outputs": [
    {
     "name": "stderr",
     "output_type": "stream",
     "text": [
      "/opt/conda/lib/python3.7/site-packages/sklearn/externals/joblib/__init__.py:15: DeprecationWarning: sklearn.externals.joblib is deprecated in 0.21 and will be removed in 0.23. Please import this functionality directly from joblib, which can be installed with: pip install joblib. If this warning is raised when loading pickled models, you may need to re-serialize those models with scikit-learn 0.21+.\n",
      "  warnings.warn(msg, category=DeprecationWarning)\n"
     ]
    },
    {
     "name": "stdout",
     "output_type": "stream",
     "text": [
      "['@preproc.args']\n",
      "CPU times: user 3.37 s, sys: 4.21 s, total: 7.58 s\n",
      "Wall time: 1.78 s\n"
     ]
    }
   ],
   "source": [
    "%%time\n",
    "from src.run_preprocess import main as preprocess\n",
    "from src.run_preprocess import parse_command_line_arguments,build_config_dict, run_preprocess\n",
    "import sys\n",
    "\n",
    "# preprocs = ['@preproc1.args',\n",
    "#            '@preproc2.args',\n",
    "#            '@preproc3.args',\n",
    "#            '@preproc4.args',\n",
    "#            '@preproc5.args',\n",
    "#            '@preproc6.args',\n",
    "#            '@preproc7.args',\n",
    "#            '@preproc8.args',\n",
    "#            '@preproc9.args',\n",
    "#            '@preproc10.args',\n",
    "#            '@preproc11.args']\n",
    "\n",
    "preprocs = ['@preproc.args']\n",
    "print(preprocs)"
   ]
  },
  {
   "cell_type": "code",
   "execution_count": 4,
   "metadata": {},
   "outputs": [
    {
     "name": "stdout",
     "output_type": "stream",
     "text": [
      "/opt/conda/lib/python3.7/site-packages/ipykernel_launcher.py\n",
      "['/opt/conda/lib/python3.7/site-packages/ipykernel_launcher.py', '@preproc.args']\n",
      "argv type:  <class 'list'>\n",
      "argv:  ['/opt/conda/lib/python3.7/site-packages/ipykernel_launcher.py', '@preproc.args']\n",
      "{'CPU': 4,\n",
      " 'all_modalities': ['MR1'],\n",
      " 'image_format': 'NIFTI',\n",
      " 'image_masks': ['MASK'],\n",
      " 'image_shape': (256, 256, None),\n",
      " 'input_images': '/home/jovyan/data',\n",
      " 'input_type': 'Image',\n",
      " 'n_channels': 1,\n",
      " 'normalize': 1,\n",
      " 'output_dir': 'output/',\n",
      " 'output_file': 'output/data_test.h5',\n",
      " 'output_images': 0,\n",
      " 'output_imstats': 1,\n",
      " 'overwrite': 1,\n",
      " 'patch_shape': None,\n",
      " 'problem_type': 'Segmentation',\n",
      " 'training_modalities': ['MR1']}\n",
      "Reading: /home/jovyan/data/DUKET1dynportal0244/MR1.nii\n",
      "Reading: /home/jovyan/data/DUKET1dynportal0244/MASK.nii\n",
      "Reading rri: /home/jovyan/data/DUKET1dynportal0244/MR1.nii\n",
      "Reading rri: /home/jovyan/data/DUKET1dynportal0244/MASK.nii\n",
      "Reading: /home/jovyan/data/DUKET1dynpre0285/MR1.nii\n",
      "Reading: /home/jovyan/data/DUKET1dynpre0285/MASK.nii\n",
      "Reading rri: /home/jovyan/data/DUKET1dynpre0285/MR1.nii\n",
      "Reading rri: /home/jovyan/data/DUKET1dynpre0285/MASK.nii\n",
      "Reading: /home/jovyan/data/DUKET1nfs0415/MR1.nii\n",
      "Reading: /home/jovyan/data/DUKET1nfs0415/MASK.nii\n",
      "Reading rri: /home/jovyan/data/DUKET1nfs0415/MR1.nii\n",
      "Reading rri: /home/jovyan/data/DUKET1nfs0415/MASK.nii\n",
      "Reading: /home/jovyan/data/DUKET2ssfse0021/MR1.nii\n",
      "Reading: /home/jovyan/data/DUKET2ssfse0021/MASK.nii\n",
      "Reading rri: /home/jovyan/data/DUKET2ssfse0021/MR1.nii\n",
      "Reading rri: /home/jovyan/data/DUKET2ssfse0021/MASK.nii\n",
      "Reading: /home/jovyan/data/DUKET2ssfse0033/MR1.nii\n",
      "Reading: /home/jovyan/data/DUKET2ssfse0033/MASK.nii\n",
      "Reading rri: /home/jovyan/data/DUKET2ssfse0033/MR1.nii\n",
      "Reading rri: /home/jovyan/data/DUKET2ssfse0033/MASK.nii\n",
      "Reading: /home/jovyan/data/UCSDT1GRE0000_3/MR1.nii\n",
      "Reading: /home/jovyan/data/UCSDT1GRE0000_3/MASK.nii\n",
      "Reading rri: /home/jovyan/data/UCSDT1GRE0000_3/MR1.nii\n"
     ]
    },
    {
     "name": "stderr",
     "output_type": "stream",
     "text": [
      "/opt/conda/lib/python3.7/site-packages/nilearn/image/resampling.py:510: UserWarning: Casting data from int16 to float32\n",
      "  warnings.warn(\"Casting data from %s to %s\" % (data.dtype.name, aux))\n"
     ]
    },
    {
     "name": "stdout",
     "output_type": "stream",
     "text": [
      "Reading rri: /home/jovyan/data/UCSDT1GRE0000_3/MASK.nii\n",
      "Reading: /home/jovyan/data/UCSDT1GRE0142_1/MR1.nii\n",
      "Reading: /home/jovyan/data/UCSDT1GRE0142_1/MASK.nii\n",
      "Reading rri: /home/jovyan/data/UCSDT1GRE0142_1/MR1.nii\n"
     ]
    },
    {
     "name": "stderr",
     "output_type": "stream",
     "text": [
      "/opt/conda/lib/python3.7/site-packages/nilearn/image/resampling.py:510: UserWarning: Casting data from int16 to float32\n",
      "  warnings.warn(\"Casting data from %s to %s\" % (data.dtype.name, aux))\n"
     ]
    },
    {
     "name": "stdout",
     "output_type": "stream",
     "text": [
      "Reading rri: /home/jovyan/data/UCSDT1GRE0142_1/MASK.nii\n",
      "Reading: /home/jovyan/data/UCSDT1HBP0088/MR1.nii\n",
      "Reading: /home/jovyan/data/UCSDT1HBP0088/MASK.nii\n",
      "Reading rri: /home/jovyan/data/UCSDT1HBP0088/MR1.nii\n"
     ]
    },
    {
     "name": "stderr",
     "output_type": "stream",
     "text": [
      "/opt/conda/lib/python3.7/site-packages/nilearn/image/resampling.py:510: UserWarning: Casting data from int16 to float32\n",
      "  warnings.warn(\"Casting data from %s to %s\" % (data.dtype.name, aux))\n"
     ]
    },
    {
     "name": "stdout",
     "output_type": "stream",
     "text": [
      "Reading rri: /home/jovyan/data/UCSDT1HBP0088/MASK.nii\n",
      "Reading: /home/jovyan/data/UCSDT1mAP0042_b/MR1.nii\n",
      "Reading: /home/jovyan/data/UCSDT1mAP0042_b/MASK.nii\n",
      "Reading rri: /home/jovyan/data/UCSDT1mAP0042_b/MR1.nii\n",
      "Reading rri: /home/jovyan/data/UCSDT1mAP0042_b/MASK.nii\n",
      "Input Data Preprocessed and Loaded to HDF5\n",
      "Data in HDF5 File is normalized for training\n",
      "@preproc.args  processed\n",
      "CPU times: user 42.7 s, sys: 7.94 s, total: 50.6 s\n",
      "Wall time: 49 s\n"
     ]
    }
   ],
   "source": [
    "%%time\n",
    "# Single Core processing\n",
    "for file in preprocs:\n",
    "    config_arg = file\n",
    "    print(sys.argv[0])\n",
    "    if config_arg not in sys.argv:\n",
    "        primary = sys.argv[0]\n",
    "        sys.argv = [primary,config_arg] \n",
    "    print(sys.argv)\n",
    "    preprocess()\n",
    "    print(file,' processed')"
   ]
  },
  {
   "cell_type": "code",
   "execution_count": null,
   "metadata": {},
   "outputs": [],
   "source": [
    "preprocs"
   ]
  },
  {
   "cell_type": "code",
   "execution_count": null,
   "metadata": {},
   "outputs": [],
   "source": [
    "%%time\n",
    "# Parallel Processing\n",
    "configs = list()\n",
    "for file in preprocs:\n",
    "    config_arg = file\n",
    "    #print(sys.argv[0])\n",
    "    if config_arg not in sys.argv:\n",
    "        primary = sys.argv[0]\n",
    "        sys.argv = [primary,config_arg] \n",
    "    #print(sys.argv)\n",
    "    args = parse_command_line_arguments()\n",
    "    config = build_config_dict(vars(args))\n",
    "    configs.append(config)\n",
    "print('No of configs: ',len(configs))"
   ]
  },
  {
   "cell_type": "code",
   "execution_count": null,
   "metadata": {},
   "outputs": [],
   "source": [
    "%%time\n",
    "import multiprocessing\n",
    "from multiprocessing import set_start_method\n",
    "#set_start_method(\"spawn\")\n",
    "\n",
    "from multiprocessing import get_context\n",
    "\n",
    "if __name__=='__main__':\n",
    "    with get_context(\"spawn\").Pool() as pool:\n",
    "        pool.map(run_preprocess,configs)\n",
    "        pool.close()\n",
    "        pool.join()"
   ]
  }
 ],
 "metadata": {
  "file_extension": ".py",
  "kernelspec": {
   "display_name": "Python 3",
   "language": "python",
   "name": "python3"
  },
  "language_info": {
   "codemirror_mode": {
    "name": "ipython",
    "version": 3
   },
   "file_extension": ".py",
   "mimetype": "text/x-python",
   "name": "python",
   "nbconvert_exporter": "python",
   "pygments_lexer": "ipython3",
   "version": "3.7.3"
  },
  "mimetype": "text/x-python",
  "name": "python",
  "npconvert_exporter": "python",
  "pygments_lexer": "ipython3",
  "version": 3
 },
 "nbformat": 4,
 "nbformat_minor": 2
}
